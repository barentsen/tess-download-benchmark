{
 "cells": [
  {
   "cell_type": "markdown",
   "id": "endless-interpretation",
   "metadata": {},
   "source": [
    "# How fast can you access data from NASA's TESS Data Archive?\n",
    "\n",
    "*Prepared by Geert Barentsen on Feb 3, 2021.*\n",
    "\n",
    "## Purpose of this notebook\n",
    "\n",
    "This notebook investigates the performance of downloading TESS FFI's in three different ways:\n",
    "* from MAST via HTTP;\n",
    "* from AWS S3 via HTTP;\n",
    "* from AWS S3 via the `boto3` client library."
   ]
  },
  {
   "cell_type": "markdown",
   "id": "handled-narrative",
   "metadata": {},
   "source": [
    "## Step 1: Select ten random TESS FFI images (~300MB)\n",
    "\n",
    "Below we uses TAP to obtain the URI of a random TESS FFI.  We use TAP rather than the `Observations.get_product_list()` mechanism provided by `astroquery.mast`  because the latter can take >10 minutes to list the FFI images for a sector."
   ]
  },
  {
   "cell_type": "code",
   "execution_count": 1,
   "id": "pressed-following",
   "metadata": {},
   "outputs": [],
   "source": [
    "# Install dependencies\n",
    "!pip install -q --upgrade pip\n",
    "!pip install -q --upgrade numpy astroquery httpx boto3"
   ]
  },
  {
   "cell_type": "code",
   "execution_count": 2,
   "id": "conceptual-wallace",
   "metadata": {},
   "outputs": [],
   "source": [
    "from astroquery.utils.tap.core import TapPlus\n",
    "from astroquery.mast import utils\n",
    "import httpx\n",
    "import numpy as np"
   ]
  },
  {
   "cell_type": "code",
   "execution_count": 3,
   "id": "attempted-closing",
   "metadata": {},
   "outputs": [
    {
     "name": "stdout",
     "output_type": "stream",
     "text": [
      "Created TAP+ (v1.2.1) - Connection:\n",
      "\tHost: vao.stsci.edu\n",
      "\tUse HTTPS: True\n",
      "\tPort: 443\n",
      "\tSSL Port: 443\n",
      "INFO: Query finished. [astroquery.utils.tap.core]\n"
     ]
    }
   ],
   "source": [
    "# We use TAP because accessing product URI's via Observations.get_product_list() can take >10 minutes\n",
    "sector = np.random.choice(30)\n",
    "mast_tap = TapPlus(url=\"https://vao.stsci.edu/caomtap/tapservice.aspx\")\n",
    "adql = f\"\"\"SELECT * FROM obscore\n",
    "           WHERE obs_collection='TESS' AND dataproduct_type = \"image\"\n",
    "           AND obs_id LIKE 'tess%-s{sector:04d}-1-1-%'\"\"\"\n",
    "job = mast_tap.launch_job_async(adql)\n",
    "images = job.get_results()"
   ]
  },
  {
   "cell_type": "code",
   "execution_count": 4,
   "id": "sealed-puzzle",
   "metadata": {},
   "outputs": [
    {
     "name": "stdout",
     "output_type": "stream",
     "text": [
      "We randomly selected 30 images from TESS Sector 9:\n",
      "https://mast.stsci.edu/portal/Download/file?uri=mast:TESS/product/tess2019081055934-s0009-1-1-0139-s_ffic.fits\n",
      "https://mast.stsci.edu/portal/Download/file?uri=mast:TESS/product/tess2019068135934-s0009-1-1-0139-s_ffic.fits\n",
      "https://mast.stsci.edu/portal/Download/file?uri=mast:TESS/product/tess2019065065934-s0009-1-1-0139-s_ffic.fits\n",
      "https://mast.stsci.edu/portal/Download/file?uri=mast:TESS/product/tess2019083125934-s0009-1-1-0139-s_ffic.fits\n",
      "https://mast.stsci.edu/portal/Download/file?uri=mast:TESS/product/tess2019068115934-s0009-1-1-0139-s_ffic.fits\n",
      "https://mast.stsci.edu/portal/Download/file?uri=mast:TESS/product/tess2019074172934-s0009-1-1-0139-s_ffic.fits\n",
      "https://mast.stsci.edu/portal/Download/file?uri=mast:TESS/product/tess2019064035934-s0009-1-1-0139-s_ffic.fits\n",
      "https://mast.stsci.edu/portal/Download/file?uri=mast:TESS/product/tess2019060142935-s0009-1-1-0139-s_ffic.fits\n",
      "https://mast.stsci.edu/portal/Download/file?uri=mast:TESS/product/tess2019061112934-s0009-1-1-0139-s_ffic.fits\n",
      "https://mast.stsci.edu/portal/Download/file?uri=mast:TESS/product/tess2019062052934-s0009-1-1-0139-s_ffic.fits\n",
      "https://mast.stsci.edu/portal/Download/file?uri=mast:TESS/product/tess2019080215934-s0009-1-1-0139-s_ffic.fits\n",
      "https://mast.stsci.edu/portal/Download/file?uri=mast:TESS/product/tess2019070055934-s0009-1-1-0139-s_ffic.fits\n",
      "https://mast.stsci.edu/portal/Download/file?uri=mast:TESS/product/tess2019068225934-s0009-1-1-0139-s_ffic.fits\n",
      "https://mast.stsci.edu/portal/Download/file?uri=mast:TESS/product/tess2019081112934-s0009-1-1-0139-s_ffic.fits\n",
      "https://mast.stsci.edu/portal/Download/file?uri=mast:TESS/product/tess2019063042934-s0009-1-1-0139-s_ffic.fits\n",
      "https://mast.stsci.edu/portal/Download/file?uri=mast:TESS/product/tess2019063062934-s0009-1-1-0139-s_ffic.fits\n",
      "https://mast.stsci.edu/portal/Download/file?uri=mast:TESS/product/tess2019077085934-s0009-1-1-0139-s_ffic.fits\n",
      "https://mast.stsci.edu/portal/Download/file?uri=mast:TESS/product/tess2019079085934-s0009-1-1-0139-s_ffic.fits\n",
      "https://mast.stsci.edu/portal/Download/file?uri=mast:TESS/product/tess2019083025934-s0009-1-1-0139-s_ffic.fits\n",
      "https://mast.stsci.edu/portal/Download/file?uri=mast:TESS/product/tess2019066075934-s0009-1-1-0139-s_ffic.fits\n",
      "https://mast.stsci.edu/portal/Download/file?uri=mast:TESS/product/tess2019079002934-s0009-1-1-0139-s_ffic.fits\n",
      "https://mast.stsci.edu/portal/Download/file?uri=mast:TESS/product/tess2019083102934-s0009-1-1-0139-s_ffic.fits\n",
      "https://mast.stsci.edu/portal/Download/file?uri=mast:TESS/product/tess2019080205934-s0009-1-1-0139-s_ffic.fits\n",
      "https://mast.stsci.edu/portal/Download/file?uri=mast:TESS/product/tess2019076042934-s0009-1-1-0139-s_ffic.fits\n",
      "https://mast.stsci.edu/portal/Download/file?uri=mast:TESS/product/tess2019076145934-s0009-1-1-0139-s_ffic.fits\n",
      "https://mast.stsci.edu/portal/Download/file?uri=mast:TESS/product/tess2019068165934-s0009-1-1-0139-s_ffic.fits\n",
      "https://mast.stsci.edu/portal/Download/file?uri=mast:TESS/product/tess2019070012934-s0009-1-1-0139-s_ffic.fits\n",
      "https://mast.stsci.edu/portal/Download/file?uri=mast:TESS/product/tess2019062225934-s0009-1-1-0139-s_ffic.fits\n",
      "https://mast.stsci.edu/portal/Download/file?uri=mast:TESS/product/tess2019077085934-s0009-1-1-0139-s_ffic.fits\n",
      "https://mast.stsci.edu/portal/Download/file?uri=mast:TESS/product/tess2019063095934-s0009-1-1-0139-s_ffic.fits\n"
     ]
    }
   ],
   "source": [
    "n_images = 30\n",
    "uri_list = tuple(images[np.random.choice(len(images), n_images)][\"access_url\"])\n",
    "print(f\"We randomly selected {n_images} images from TESS Sector {sector}:\\n\" + \"\\n\".join(uri_list))"
   ]
  },
  {
   "cell_type": "markdown",
   "id": "appropriate-convergence",
   "metadata": {},
   "source": [
    "## Experiment A: Download from MAST via HTTP"
   ]
  },
  {
   "cell_type": "code",
   "execution_count": 5,
   "id": "dirty-married",
   "metadata": {},
   "outputs": [
    {
     "name": "stdout",
     "output_type": "stream",
     "text": [
      "CPU times: user 53.1 s, sys: 9.74 s, total: 1min 2s\n",
      "Wall time: 14min 5s\n"
     ]
    }
   ],
   "source": [
    "%%time\n",
    "r = [httpx.get(uri, timeout=None) for uri in uri_list]"
   ]
  },
  {
   "cell_type": "markdown",
   "id": "generic-breakdown",
   "metadata": {},
   "source": [
    "## Experiment B: Download from AWS S3 via HTTP"
   ]
  },
  {
   "cell_type": "code",
   "execution_count": 6,
   "id": "ecological-reminder",
   "metadata": {},
   "outputs": [
    {
     "data": {
      "text/plain": [
       "['http://s3.amazonaws.com/stpubdata/tess/public/ffi/s0009/2019/081/1-1/tess2019081055934-s0009-1-1-0139-s_ffic.fits',\n",
       " 'http://s3.amazonaws.com/stpubdata/tess/public/ffi/s0009/2019/068/1-1/tess2019068135934-s0009-1-1-0139-s_ffic.fits',\n",
       " 'http://s3.amazonaws.com/stpubdata/tess/public/ffi/s0009/2019/065/1-1/tess2019065065934-s0009-1-1-0139-s_ffic.fits',\n",
       " 'http://s3.amazonaws.com/stpubdata/tess/public/ffi/s0009/2019/083/1-1/tess2019083125934-s0009-1-1-0139-s_ffic.fits',\n",
       " 'http://s3.amazonaws.com/stpubdata/tess/public/ffi/s0009/2019/068/1-1/tess2019068115934-s0009-1-1-0139-s_ffic.fits',\n",
       " 'http://s3.amazonaws.com/stpubdata/tess/public/ffi/s0009/2019/074/1-1/tess2019074172934-s0009-1-1-0139-s_ffic.fits',\n",
       " 'http://s3.amazonaws.com/stpubdata/tess/public/ffi/s0009/2019/064/1-1/tess2019064035934-s0009-1-1-0139-s_ffic.fits',\n",
       " 'http://s3.amazonaws.com/stpubdata/tess/public/ffi/s0009/2019/060/1-1/tess2019060142935-s0009-1-1-0139-s_ffic.fits',\n",
       " 'http://s3.amazonaws.com/stpubdata/tess/public/ffi/s0009/2019/061/1-1/tess2019061112934-s0009-1-1-0139-s_ffic.fits',\n",
       " 'http://s3.amazonaws.com/stpubdata/tess/public/ffi/s0009/2019/062/1-1/tess2019062052934-s0009-1-1-0139-s_ffic.fits',\n",
       " 'http://s3.amazonaws.com/stpubdata/tess/public/ffi/s0009/2019/080/1-1/tess2019080215934-s0009-1-1-0139-s_ffic.fits',\n",
       " 'http://s3.amazonaws.com/stpubdata/tess/public/ffi/s0009/2019/070/1-1/tess2019070055934-s0009-1-1-0139-s_ffic.fits',\n",
       " 'http://s3.amazonaws.com/stpubdata/tess/public/ffi/s0009/2019/068/1-1/tess2019068225934-s0009-1-1-0139-s_ffic.fits',\n",
       " 'http://s3.amazonaws.com/stpubdata/tess/public/ffi/s0009/2019/081/1-1/tess2019081112934-s0009-1-1-0139-s_ffic.fits',\n",
       " 'http://s3.amazonaws.com/stpubdata/tess/public/ffi/s0009/2019/063/1-1/tess2019063042934-s0009-1-1-0139-s_ffic.fits',\n",
       " 'http://s3.amazonaws.com/stpubdata/tess/public/ffi/s0009/2019/063/1-1/tess2019063062934-s0009-1-1-0139-s_ffic.fits',\n",
       " 'http://s3.amazonaws.com/stpubdata/tess/public/ffi/s0009/2019/077/1-1/tess2019077085934-s0009-1-1-0139-s_ffic.fits',\n",
       " 'http://s3.amazonaws.com/stpubdata/tess/public/ffi/s0009/2019/079/1-1/tess2019079085934-s0009-1-1-0139-s_ffic.fits',\n",
       " 'http://s3.amazonaws.com/stpubdata/tess/public/ffi/s0009/2019/083/1-1/tess2019083025934-s0009-1-1-0139-s_ffic.fits',\n",
       " 'http://s3.amazonaws.com/stpubdata/tess/public/ffi/s0009/2019/066/1-1/tess2019066075934-s0009-1-1-0139-s_ffic.fits',\n",
       " 'http://s3.amazonaws.com/stpubdata/tess/public/ffi/s0009/2019/079/1-1/tess2019079002934-s0009-1-1-0139-s_ffic.fits',\n",
       " 'http://s3.amazonaws.com/stpubdata/tess/public/ffi/s0009/2019/083/1-1/tess2019083102934-s0009-1-1-0139-s_ffic.fits',\n",
       " 'http://s3.amazonaws.com/stpubdata/tess/public/ffi/s0009/2019/080/1-1/tess2019080205934-s0009-1-1-0139-s_ffic.fits',\n",
       " 'http://s3.amazonaws.com/stpubdata/tess/public/ffi/s0009/2019/076/1-1/tess2019076042934-s0009-1-1-0139-s_ffic.fits',\n",
       " 'http://s3.amazonaws.com/stpubdata/tess/public/ffi/s0009/2019/076/1-1/tess2019076145934-s0009-1-1-0139-s_ffic.fits',\n",
       " 'http://s3.amazonaws.com/stpubdata/tess/public/ffi/s0009/2019/068/1-1/tess2019068165934-s0009-1-1-0139-s_ffic.fits',\n",
       " 'http://s3.amazonaws.com/stpubdata/tess/public/ffi/s0009/2019/070/1-1/tess2019070012934-s0009-1-1-0139-s_ffic.fits',\n",
       " 'http://s3.amazonaws.com/stpubdata/tess/public/ffi/s0009/2019/062/1-1/tess2019062225934-s0009-1-1-0139-s_ffic.fits',\n",
       " 'http://s3.amazonaws.com/stpubdata/tess/public/ffi/s0009/2019/077/1-1/tess2019077085934-s0009-1-1-0139-s_ffic.fits',\n",
       " 'http://s3.amazonaws.com/stpubdata/tess/public/ffi/s0009/2019/063/1-1/tess2019063095934-s0009-1-1-0139-s_ffic.fits']"
      ]
     },
     "execution_count": 6,
     "metadata": {},
     "output_type": "execute_result"
    }
   ],
   "source": [
    "aws_bucket = \"stpubdata\"\n",
    "relative_path = [utils.mast_relative_path(uri.split(\"uri=\")[1]) for uri in uri_list]\n",
    "aws_uri_list = [f\"http://s3.amazonaws.com/{aws_bucket}{rp}\" for rp in relative_path]\n",
    "aws_uri_list"
   ]
  },
  {
   "cell_type": "code",
   "execution_count": 7,
   "id": "czech-implementation",
   "metadata": {},
   "outputs": [
    {
     "name": "stdout",
     "output_type": "stream",
     "text": [
      "CPU times: user 33 s, sys: 6.51 s, total: 39.6 s\n",
      "Wall time: 11min 31s\n"
     ]
    }
   ],
   "source": [
    "%%time\n",
    "r = [httpx.get(uri, timeout=None) for uri in aws_uri_list]"
   ]
  },
  {
   "cell_type": "markdown",
   "id": "unlimited-coordinate",
   "metadata": {},
   "source": [
    "## Experiment C: Download from AWS S3 via `boto3`"
   ]
  },
  {
   "cell_type": "code",
   "execution_count": 8,
   "id": "perfect-indie",
   "metadata": {},
   "outputs": [],
   "source": [
    "import boto3\n",
    "from botocore import UNSIGNED\n",
    "from botocore.config import Config"
   ]
  },
  {
   "cell_type": "code",
   "execution_count": 9,
   "id": "religious-backup",
   "metadata": {},
   "outputs": [],
   "source": [
    "s3 = boto3.client(\"s3\", config=Config(signature_version=UNSIGNED))"
   ]
  },
  {
   "cell_type": "code",
   "execution_count": 10,
   "id": "light-masters",
   "metadata": {},
   "outputs": [
    {
     "name": "stdout",
     "output_type": "stream",
     "text": [
      "CPU times: user 14 s, sys: 9.82 s, total: 23.9 s\n",
      "Wall time: 5min 49s\n"
     ]
    },
    {
     "data": {
      "text/plain": [
       "[None,\n",
       " None,\n",
       " None,\n",
       " None,\n",
       " None,\n",
       " None,\n",
       " None,\n",
       " None,\n",
       " None,\n",
       " None,\n",
       " None,\n",
       " None,\n",
       " None,\n",
       " None,\n",
       " None,\n",
       " None,\n",
       " None,\n",
       " None,\n",
       " None,\n",
       " None,\n",
       " None,\n",
       " None,\n",
       " None,\n",
       " None,\n",
       " None,\n",
       " None,\n",
       " None,\n",
       " None,\n",
       " None,\n",
       " None]"
      ]
     },
     "execution_count": 10,
     "metadata": {},
     "output_type": "execute_result"
    }
   ],
   "source": [
    "%%time\n",
    "[s3.download_file(aws_bucket, uri[1:], \"/tmp/tmp-aws.fits\") for uri in relative_path]"
   ]
  },
  {
   "cell_type": "code",
   "execution_count": 11,
   "id": "otherwise-timber",
   "metadata": {},
   "outputs": [
    {
     "name": "stdout",
     "output_type": "stream",
     "text": [
      "-rw-r--r-- 1 gb wheel 34M Feb  3 18:32 /tmp/tmp-aws.fits\n"
     ]
    }
   ],
   "source": [
    "!ls -lh /tmp/tmp-aws.fits"
   ]
  }
 ],
 "metadata": {
  "kernelspec": {
   "display_name": "Python 3",
   "language": "python",
   "name": "python3"
  },
  "language_info": {
   "codemirror_mode": {
    "name": "ipython",
    "version": 3
   },
   "file_extension": ".py",
   "mimetype": "text/x-python",
   "name": "python",
   "nbconvert_exporter": "python",
   "pygments_lexer": "ipython3",
   "version": "3.8.6"
  }
 },
 "nbformat": 4,
 "nbformat_minor": 5
}
