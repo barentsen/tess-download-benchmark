{
 "cells": [
  {
   "cell_type": "markdown",
   "id": "another-mason",
   "metadata": {},
   "source": [
    "# How to obtain cloud URIs for TESS images?"
   ]
  },
  {
   "cell_type": "markdown",
   "id": "demographic-terrain",
   "metadata": {},
   "source": [
    "*Prepared by Geert Barentsen on Feb 17, 2021.*\n",
    "\n",
    "## Summary\n",
    "\n",
    "Many use cases for analyzing TESS data in the cloud would benefit from being able to query the S3 URIs of data products in a friendly and efficient way.  This notebook evaluates four different methods which may be used to obtain the URIs of the FITS images for a given TESS sector & chip.\n",
    "\n",
    "In brief, the findings are:\n",
    "\n",
    "| Method | Time | Comments | \n",
    "| :----- | ---: | :------- |\n",
    "| `s3fs.glob()`             | ~15s  | Restricted to querying meta data encoded in URI. 😟 | \n",
    "| `s3://manifest.txt.gz`    | ~15s  | Restricted to querying meta data encoded in URI. 😟 |\n",
    "| `astroquery.mast`         | ~200s | Call to `get_cloud_uris()` does not scale. 🐌 | \n",
    "| `TAP` via `vao.stsci.edu` | TBD   | Could not figure out how to query cloud URIs via TAP. Help needed! 🚑 |\n",
    "\n",
    "The remainder of this notebook shows the code used to evaluate each method.  I warmly welcome tips for improvements!"
   ]
  },
  {
   "cell_type": "markdown",
   "id": "dangerous-stevens",
   "metadata": {},
   "source": [
    "## Code used"
   ]
  },
  {
   "cell_type": "code",
   "execution_count": 1,
   "id": "cooked-divide",
   "metadata": {},
   "outputs": [],
   "source": [
    "# Select a data set to retrieve\n",
    "SECTOR = 12\n",
    "CAMERA = 3\n",
    "CCD = 4"
   ]
  },
  {
   "cell_type": "code",
   "execution_count": 2,
   "id": "coordinated-future",
   "metadata": {},
   "outputs": [],
   "source": [
    "# Install dependencies\n",
    "!pip install s3fs boto3 pandas -q\n",
    "!pip install git+https://github.com/astropy/astroquery/ -q  # Need bleeding edge for public AWS data"
   ]
  },
  {
   "cell_type": "markdown",
   "id": "latter-praise",
   "metadata": {},
   "source": [
    "### Method 1: using `s3fs.glob()`"
   ]
  },
  {
   "cell_type": "code",
   "execution_count": 3,
   "id": "alleged-shoulder",
   "metadata": {},
   "outputs": [
    {
     "name": "stdout",
     "output_type": "stream",
     "text": [
      "CPU times: user 6.23 s, sys: 136 ms, total: 6.36 s\n",
      "Wall time: 19.1 s\n"
     ]
    },
    {
     "data": {
      "text/plain": [
       "'Found 1289 image URIs.'"
      ]
     },
     "execution_count": 3,
     "metadata": {},
     "output_type": "execute_result"
    }
   ],
   "source": [
    "%%time\n",
    "import s3fs\n",
    "fs = s3fs.S3FileSystem(anon=True)\n",
    "uris = fs.glob(f\"stpubdata/tess/public/ffi/s{SECTOR:04d}/*/*/{CAMERA}-{CCD}/**_ffic.fits\")\n",
    "f\"Found {len(uris)} image URIs.\""
   ]
  },
  {
   "cell_type": "markdown",
   "id": "composed-planet",
   "metadata": {},
   "source": [
    "### Method 2: using `s3://manifest.txt.gz`"
   ]
  },
  {
   "cell_type": "code",
   "execution_count": 4,
   "id": "friendly-seattle",
   "metadata": {},
   "outputs": [
    {
     "name": "stdout",
     "output_type": "stream",
     "text": [
      "CPU times: user 14.4 s, sys: 872 ms, total: 15.3 s\n",
      "Wall time: 16.6 s\n"
     ]
    },
    {
     "data": {
      "text/plain": [
       "'Found 1289 image URIs.'"
      ]
     },
     "execution_count": 4,
     "metadata": {},
     "output_type": "execute_result"
    }
   ],
   "source": [
    "%%time\n",
    "import pandas as pd  # will use `s3fs` in a seamless way\n",
    "df = pd.read_fwf('s3://stpubdata/tess/public/manifest.txt.gz',\n",
    "                 compression='gzip',\n",
    "                 names=['date', 'time', 'size', 'path'])\n",
    "mask = df.path.str.match(f'tess/public/ffi/s{SECTOR:04d}/.*/.*/{CAMERA}-{CCD}/.*_ffic.fits')\n",
    "uris = df.path[mask]\n",
    "f\"Found {len(uris)} image URIs.\""
   ]
  },
  {
   "cell_type": "markdown",
   "id": "indonesian-indication",
   "metadata": {},
   "source": [
    "### Method 3: using `astroquery.mast`"
   ]
  },
  {
   "cell_type": "code",
   "execution_count": 5,
   "id": "durable-summit",
   "metadata": {},
   "outputs": [
    {
     "name": "stdout",
     "output_type": "stream",
     "text": [
      "CPU times: user 609 ms, sys: 41.8 ms, total: 651 ms\n",
      "Wall time: 1min 11s\n"
     ]
    },
    {
     "data": {
      "text/plain": [
       "'Found 1289 products'"
      ]
     },
     "execution_count": 5,
     "metadata": {},
     "output_type": "execute_result"
    }
   ],
   "source": [
    "%%time\n",
    "from astroquery.mast import Observations\n",
    "obsTable = Observations.query_criteria(obs_id=f\"tess-s{SECTOR:04d}-{CAMERA}-{CCD}\")\n",
    "products = Observations.get_product_list(obsTable)\n",
    "filtered = Observations.filter_products(products, \n",
    "                                        productSubGroupDescription=\"FFIC\",\n",
    "                                        mrp_only=False)\n",
    "f\"Found {len(filtered)} products\""
   ]
  },
  {
   "cell_type": "markdown",
   "id": "vulnerable-professor",
   "metadata": {},
   "source": [
    "The cell above only obtained MAST URIs.  To obtain cloud URIs, we need to use `Observations.get_cloud_uris()` to query `https://mast.stsci.edu/api/v0.1/path_lookup` thousands of times.  This step does not scale and frequently encounters an `HTTPError` due to the large number of queries."
   ]
  },
  {
   "cell_type": "code",
   "execution_count": 6,
   "id": "accepted-kelly",
   "metadata": {},
   "outputs": [
    {
     "name": "stdout",
     "output_type": "stream",
     "text": [
      "INFO: Using the S3 STScI public dataset [astroquery.mast.cloud]\n",
      "CPU times: user 36.7 s, sys: 1.84 s, total: 38.6 s\n",
      "Wall time: 2min 17s\n"
     ]
    },
    {
     "data": {
      "text/plain": [
       "'Found 1289 image URIs.'"
      ]
     },
     "execution_count": 6,
     "metadata": {},
     "output_type": "execute_result"
    }
   ],
   "source": [
    "%%time\n",
    "Observations.enable_cloud_dataset()\n",
    "# The line below queries `https://mast.stsci.edu/api/v0.1/path_lookup` for each product\n",
    "# This is extremely slow and ~always yields an HTTPError before completing :-(\n",
    "uris = Observations.get_cloud_uris(filtered)\n",
    "f\"Found {len(uris)} image URIs.\""
   ]
  },
  {
   "cell_type": "markdown",
   "id": "greatest-softball",
   "metadata": {},
   "source": [
    "### Method 4: using MAST TAP?"
   ]
  },
  {
   "cell_type": "code",
   "execution_count": 7,
   "id": "flexible-slovakia",
   "metadata": {},
   "outputs": [
    {
     "name": "stdout",
     "output_type": "stream",
     "text": [
      "Created TAP+ (v20200428.1) - Connection:\n",
      "\tHost: vao.stsci.edu\n",
      "\tUse HTTPS: True\n",
      "\tPort: 443\n",
      "\tSSL Port: 443\n",
      "INFO: Query finished. [astroquery.utils.tap.core]\n",
      "CPU times: user 56.4 ms, sys: 7.03 ms, total: 63.4 ms\n",
      "Wall time: 5.39 s\n"
     ]
    }
   ],
   "source": [
    "%%time\n",
    "from astroquery.utils.tap.core import TapPlus\n",
    "mast_tap = TapPlus(url=\"https://vao.stsci.edu/caomtap/tapservice.aspx\")\n",
    "adql = f\"\"\"SELECT access_url FROM obscore\n",
    "           WHERE obs_collection='TESS' AND dataproduct_type = \"image\"\n",
    "           AND obs_id LIKE 'tess%-s{SECTOR:04d}-{CAMERA}-{CCD}%'\"\"\"\n",
    "job = mast_tap.launch_job_async(adql)\n",
    "uris = job.get_results()"
   ]
  },
  {
   "cell_type": "code",
   "execution_count": 8,
   "id": "urban-commissioner",
   "metadata": {},
   "outputs": [
    {
     "data": {
      "text/plain": [
       "'Found 1289 URIs.'"
      ]
     },
     "execution_count": 8,
     "metadata": {},
     "output_type": "execute_result"
    }
   ],
   "source": [
    "f\"Found {len(uris)} URIs.\""
   ]
  },
  {
   "cell_type": "markdown",
   "id": "public-escape",
   "metadata": {},
   "source": [
    "⚠️ Problem: the query above returns MAST URIs. How can S3 URIs be obtained without making thousands of queries to `/api/v0.1/path_lookup` again?"
   ]
  },
  {
   "cell_type": "code",
   "execution_count": null,
   "id": "physical-dallas",
   "metadata": {},
   "outputs": [],
   "source": []
  }
 ],
 "metadata": {
  "kernelspec": {
   "display_name": "Python 3",
   "language": "python",
   "name": "python3"
  },
  "language_info": {
   "codemirror_mode": {
    "name": "ipython",
    "version": 3
   },
   "file_extension": ".py",
   "mimetype": "text/x-python",
   "name": "python",
   "nbconvert_exporter": "python",
   "pygments_lexer": "ipython3",
   "version": "3.8.6"
  }
 },
 "nbformat": 4,
 "nbformat_minor": 5
}
