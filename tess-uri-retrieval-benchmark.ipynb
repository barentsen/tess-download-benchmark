{
 "cells": [
  {
   "cell_type": "markdown",
   "id": "covered-steam",
   "metadata": {},
   "source": [
    "# How to obtain S3 URIs for TESS images?"
   ]
  },
  {
   "cell_type": "markdown",
   "id": "sacred-magazine",
   "metadata": {},
   "source": [
    "*Prepared by Geert Barentsen on Feb 17, 2021.*\n",
    "\n",
    "## Summary\n",
    "\n",
    "Many use cases for analyzing TESS data in the cloud would benefit from being able to query the S3 URIs of data products in a friendly and efficient way.  This notebook evaluates four different methods which may be used to obtain the URIs of ~1,200 FITS images for a given TESS sector & chip.\n",
    "\n",
    "In brief, the findings are:\n",
    "\n",
    "| Method | Time | Comments | \n",
    "| :----- | ---: | :------- |\n",
    "| `s3fs.glob()`             | ~15s  | Can only query meta data encoded in URI. | \n",
    "| `s3://manifest.txt.gz`    | ~15s  | Can only query meta data encoded in URI. |\n",
    "| `astroquery.mast`         | ~200s | Portal API provides only limited meta data; call to `get_cloud_uris()` does not scale. 🐌 | \n",
    "| `TAP` via `vao.stsci.edu` | TBD   | Need help to figure out how to query cloud URIs via TAP/CAOM. 🚑 |\n",
    "\n",
    "An ideal solution may be for `manifest.txt.gz` to be expanded to include meta data, following the example of public cloud data sets available for NASA Landsat. (See example at bottom of notebook.)\n",
    "\n",
    "The remainder of this notebook shows the code used to evaluate each method.  I warmly welcome tips for improvements!"
   ]
  },
  {
   "cell_type": "markdown",
   "id": "municipal-courtesy",
   "metadata": {},
   "source": [
    "## Code used"
   ]
  },
  {
   "cell_type": "code",
   "execution_count": 1,
   "id": "worldwide-legislature",
   "metadata": {},
   "outputs": [],
   "source": [
    "# Select a data set to retrieve\n",
    "SECTOR = 12\n",
    "CAMERA = 3\n",
    "CCD = 4"
   ]
  },
  {
   "cell_type": "code",
   "execution_count": 2,
   "id": "mobile-barrier",
   "metadata": {},
   "outputs": [],
   "source": [
    "# Install dependencies\n",
    "!pip install s3fs boto3 pandas -q\n",
    "!pip install git+https://github.com/astropy/astroquery/ -q  # Need bleeding edge for public AWS data"
   ]
  },
  {
   "cell_type": "markdown",
   "id": "proved-kenya",
   "metadata": {},
   "source": [
    "### Method 1: using `s3fs.glob()`"
   ]
  },
  {
   "cell_type": "code",
   "execution_count": 3,
   "id": "fourth-rocket",
   "metadata": {},
   "outputs": [
    {
     "name": "stdout",
     "output_type": "stream",
     "text": [
      "CPU times: user 6.23 s, sys: 136 ms, total: 6.36 s\n",
      "Wall time: 19.1 s\n"
     ]
    },
    {
     "data": {
      "text/plain": [
       "'Found 1289 image URIs.'"
      ]
     },
     "execution_count": 3,
     "metadata": {},
     "output_type": "execute_result"
    }
   ],
   "source": [
    "%%time\n",
    "import s3fs\n",
    "fs = s3fs.S3FileSystem(anon=True)\n",
    "uris = fs.glob(f\"stpubdata/tess/public/ffi/s{SECTOR:04d}/*/*/{CAMERA}-{CCD}/**_ffic.fits\")\n",
    "f\"Found {len(uris)} image URIs.\""
   ]
  },
  {
   "cell_type": "markdown",
   "id": "every-consideration",
   "metadata": {},
   "source": [
    "### Method 2: using `s3://manifest.txt.gz`"
   ]
  },
  {
   "cell_type": "code",
   "execution_count": 4,
   "id": "earlier-public",
   "metadata": {},
   "outputs": [
    {
     "name": "stdout",
     "output_type": "stream",
     "text": [
      "CPU times: user 14.4 s, sys: 872 ms, total: 15.3 s\n",
      "Wall time: 16.6 s\n"
     ]
    },
    {
     "data": {
      "text/plain": [
       "'Found 1289 image URIs.'"
      ]
     },
     "execution_count": 4,
     "metadata": {},
     "output_type": "execute_result"
    }
   ],
   "source": [
    "%%time\n",
    "import pandas as pd  # will use `s3fs` in a seamless way\n",
    "df = pd.read_fwf('s3://stpubdata/tess/public/manifest.txt.gz',\n",
    "                 compression='gzip',\n",
    "                 names=['modified_date', 'modified_time', 'size', 'path'])\n",
    "mask = df.path.str.match(f'tess/public/ffi/s{SECTOR:04d}/.*/.*/{CAMERA}-{CCD}/.*_ffic.fits')\n",
    "uris = df.path[mask]\n",
    "f\"Found {len(uris)} image URIs.\""
   ]
  },
  {
   "cell_type": "markdown",
   "id": "aging-sociology",
   "metadata": {},
   "source": [
    "### Method 3: using `astroquery.mast`"
   ]
  },
  {
   "cell_type": "code",
   "execution_count": 5,
   "id": "turkish-integer",
   "metadata": {},
   "outputs": [
    {
     "name": "stdout",
     "output_type": "stream",
     "text": [
      "CPU times: user 609 ms, sys: 41.8 ms, total: 651 ms\n",
      "Wall time: 1min 11s\n"
     ]
    },
    {
     "data": {
      "text/plain": [
       "'Found 1289 products'"
      ]
     },
     "execution_count": 5,
     "metadata": {},
     "output_type": "execute_result"
    }
   ],
   "source": [
    "%%time\n",
    "from astroquery.mast import Observations\n",
    "obsTable = Observations.query_criteria(obs_id=f\"tess-s{SECTOR:04d}-{CAMERA}-{CCD}\")\n",
    "products = Observations.get_product_list(obsTable)\n",
    "filtered = Observations.filter_products(products, \n",
    "                                        productSubGroupDescription=\"FFIC\",\n",
    "                                        mrp_only=False)\n",
    "f\"Found {len(filtered)} products\""
   ]
  },
  {
   "cell_type": "markdown",
   "id": "sorted-causing",
   "metadata": {},
   "source": [
    "The cell above only obtained MAST URIs.  To obtain cloud URIs, we need to use `Observations.get_cloud_uris()` to query `https://mast.stsci.edu/api/v0.1/path_lookup` thousands of times.  This step does not scale and frequently encounters an `HTTPError` due to the large number of queries."
   ]
  },
  {
   "cell_type": "code",
   "execution_count": 6,
   "id": "distributed-namibia",
   "metadata": {},
   "outputs": [
    {
     "name": "stdout",
     "output_type": "stream",
     "text": [
      "INFO: Using the S3 STScI public dataset [astroquery.mast.cloud]\n",
      "CPU times: user 36.7 s, sys: 1.84 s, total: 38.6 s\n",
      "Wall time: 2min 17s\n"
     ]
    },
    {
     "data": {
      "text/plain": [
       "'Found 1289 image URIs.'"
      ]
     },
     "execution_count": 6,
     "metadata": {},
     "output_type": "execute_result"
    }
   ],
   "source": [
    "%%time\n",
    "Observations.enable_cloud_dataset()\n",
    "# The line below queries `https://mast.stsci.edu/api/v0.1/path_lookup` for each product\n",
    "# This is extremely slow and ~always yields an HTTPError before completing :-(\n",
    "uris = Observations.get_cloud_uris(filtered)\n",
    "f\"Found {len(uris)} image URIs.\""
   ]
  },
  {
   "cell_type": "markdown",
   "id": "universal-philosophy",
   "metadata": {},
   "source": [
    "### Method 4: using TAP?"
   ]
  },
  {
   "cell_type": "code",
   "execution_count": 7,
   "id": "pacific-victor",
   "metadata": {},
   "outputs": [
    {
     "name": "stdout",
     "output_type": "stream",
     "text": [
      "Created TAP+ (v20200428.1) - Connection:\n",
      "\tHost: vao.stsci.edu\n",
      "\tUse HTTPS: True\n",
      "\tPort: 443\n",
      "\tSSL Port: 443\n",
      "INFO: Query finished. [astroquery.utils.tap.core]\n",
      "CPU times: user 56.4 ms, sys: 7.03 ms, total: 63.4 ms\n",
      "Wall time: 5.39 s\n"
     ]
    }
   ],
   "source": [
    "%%time\n",
    "from astroquery.utils.tap.core import TapPlus\n",
    "mast_tap = TapPlus(url=\"https://vao.stsci.edu/caomtap/tapservice.aspx\")\n",
    "adql = f\"\"\"SELECT access_url FROM obscore\n",
    "           WHERE obs_collection='TESS' AND dataproduct_type = \"image\"\n",
    "           AND obs_id LIKE 'tess%-s{SECTOR:04d}-{CAMERA}-{CCD}%'\"\"\"\n",
    "job = mast_tap.launch_job_async(adql)\n",
    "uris = job.get_results()"
   ]
  },
  {
   "cell_type": "code",
   "execution_count": 8,
   "id": "proof-pottery",
   "metadata": {},
   "outputs": [
    {
     "data": {
      "text/plain": [
       "'Found 1289 URIs.'"
      ]
     },
     "execution_count": 8,
     "metadata": {},
     "output_type": "execute_result"
    }
   ],
   "source": [
    "f\"Found {len(uris)} URIs.\""
   ]
  },
  {
   "cell_type": "markdown",
   "id": "tight-commons",
   "metadata": {},
   "source": [
    "⚠️ Problem: the query above returns MAST URIs. How can S3 URIs be obtained without making thousands of queries to `/api/v0.1/path_lookup` again?"
   ]
  },
  {
   "cell_type": "markdown",
   "id": "outer-radical",
   "metadata": {},
   "source": [
    "## For inspiration: accessing NASA Landsat data via S3"
   ]
  },
  {
   "cell_type": "markdown",
   "id": "automatic-finnish",
   "metadata": {},
   "source": [
    "Both the [AWS Landsat](https://docs.opendata.aws/landsat-pds/readme.html) and [Google Cloud Landsat](https://cloud.google.com/storage/docs/public-datasets/landsat) data sets provide a so-called \"scene list\" which provides basic properties of the data products to help locate images of interest. For example, we can identify the URIs of Landsat images of Baltimore as follows:"
   ]
  },
  {
   "cell_type": "code",
   "execution_count": 82,
   "id": "southwest-hybrid",
   "metadata": {},
   "outputs": [
    {
     "name": "stdout",
     "output_type": "stream",
     "text": [
      "CPU times: user 4.36 s, sys: 322 ms, total: 4.69 s\n",
      "Wall time: 11.2 s\n"
     ]
    },
    {
     "data": {
      "text/plain": [
       "'Found 115 cloud-free images of Baltimore'"
      ]
     },
     "execution_count": 82,
     "metadata": {},
     "output_type": "execute_result"
    }
   ],
   "source": [
    "%%time\n",
    "df = pd.read_csv('s3://landsat-pds/scene_list.gz')\n",
    "baltimore = (39.2904, -76.6122)  # lat, lon\n",
    "query = f\"min_lat < {baltimore[0]} \\\n",
    "          & max_lat > {baltimore[0]} \\\n",
    "          & min_lon < {baltimore[1]} \\\n",
    "          & max_lon > {baltimore[1]} \\\n",
    "          & cloudCover < 10 \\\n",
    "          & acquisitionDate > '2010-01-01'\"\n",
    "f\"Found {len(df.query(query))} cloud-free Landsat images of Baltimore\""
   ]
  },
  {
   "cell_type": "code",
   "execution_count": 83,
   "id": "brazilian-syntax",
   "metadata": {},
   "outputs": [
    {
     "data": {
      "text/plain": [
       "'https://s3-us-west-2.amazonaws.com/landsat-pds/L8/014/033/LC80140332014299LGN00/index.html'"
      ]
     },
     "execution_count": 83,
     "metadata": {},
     "output_type": "execute_result"
    }
   ],
   "source": [
    "# URI example\n",
    "df.query(query).download_url.iloc[0]"
   ]
  }
 ],
 "metadata": {
  "kernelspec": {
   "display_name": "Python 3",
   "language": "python",
   "name": "python3"
  },
  "language_info": {
   "codemirror_mode": {
    "name": "ipython",
    "version": 3
   },
   "file_extension": ".py",
   "mimetype": "text/x-python",
   "name": "python",
   "nbconvert_exporter": "python",
   "pygments_lexer": "ipython3",
   "version": "3.8.6"
  }
 },
 "nbformat": 4,
 "nbformat_minor": 5
}
